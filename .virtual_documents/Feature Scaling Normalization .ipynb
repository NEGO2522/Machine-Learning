


import pandas as pd 
import matplotlib.pyplot as plt 
import seaborn as sns


df = pd.read_csv('Diwali Sales Data.csv', encoding = 'latin1')
df.head(3)


df.isnull().sum()


df['Amount'].fillna(df['Amount'].mean(),inplace=True)


df.describe()


sns.distplot(df['Amount'])
plt.show()





from sklearn.preprocessing import MinMaxScaler


mx = MinMaxScaler()
mx.fit(df[['Amount']])


mx.transform(df[['Amount']])


df['Amount_tran'] = mx.transform(df[['Amount']])


df


plt.figure(figsize=(10,5))
plt.subplot(1,2,1)
plt.title("Before")
sns.distplot(df['Amount'])

plt.subplot(1,2,2)
plt.title('After')
sns.distplot(df['Amount_tran'])

plt.show()



