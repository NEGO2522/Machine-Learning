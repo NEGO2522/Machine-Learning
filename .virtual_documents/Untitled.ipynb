import pandas as pd 


df = pd.read_csv('Diwali Sales Data.csv', encoding = 'latin1')
df.head(3)


df.info()


df.isnull().sum()


df['Amount'].value_counts()


df['Amount'].fillna(df['Amount'].mode()[0], inplace = True)





df['Amount'] = df['Amount'].astype(str).str.replace("25877.0", "25875.0").astype(float)


df['Amount']





df.info()


df['Amount'] = df['Amount'].astype('int64')


df.info()



