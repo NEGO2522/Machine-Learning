


import pandas as pd
import seaborn as sns
import matplotlib.pyplot as plt 


df = pd.read_csv("Diwali Sales Data.csv",encoding='latin1')
df.head(3)


df.info()


df.describe()


sns.boxplot(x = "Amount", data = df);
plt.show()


sns.boxplot(x = 'Age', data = df)
plt.show()


sns.distplot(df['Age'])
plt.show()


l = [5,6,7,5,4,6,7,5]
sum(l)/len(l)


l = [5,6,7,5,4,6,7,5, 100]
sum(l)/len(l)



